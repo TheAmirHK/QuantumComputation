{
  "nbformat": 4,
  "nbformat_minor": 0,
  "metadata": {
    "colab": {
      "provenance": [],
      "authorship_tag": "ABX9TyMsU1Z2qYe1pEuF4UG2U65c",
      "include_colab_link": true
    },
    "kernelspec": {
      "name": "python3",
      "display_name": "Python 3"
    },
    "language_info": {
      "name": "python"
    }
  },
  "cells": [
    {
      "cell_type": "markdown",
      "metadata": {
        "id": "view-in-github",
        "colab_type": "text"
      },
      "source": [
        "<a href=\"https://colab.research.google.com/github/TheAmirHK/QuantumComputation/blob/main/QuantumCryptography/QuantumCryptoKey.ipynb\" target=\"_parent\"><img src=\"https://colab.research.google.com/assets/colab-badge.svg\" alt=\"Open In Colab\"/></a>"
      ]
    },
    {
      "cell_type": "code",
      "source": [
        "import numpy as np"
      ],
      "metadata": {
        "id": "VE2RilNRHLg0"
      },
      "execution_count": 61,
      "outputs": []
    },
    {
      "cell_type": "code",
      "source": [
        "def generate_random_bits(n):\n",
        "    \"\"\"Generate n random bits.\"\"\"\n",
        "    return np.random.randint(2, size=n)"
      ],
      "metadata": {
        "id": "hmtGi2GRHLdZ"
      },
      "execution_count": 62,
      "outputs": []
    },
    {
      "cell_type": "code",
      "source": [
        "def generate_random_bases(n):\n",
        "    \"\"\"Generate n random bases (0 for standard, 1 for Hadamard).\"\"\"\n",
        "\n",
        "\n",
        "    return np.random.randint(2, size=n)"
      ],
      "metadata": {
        "id": "iAg4c8u2HLa0"
      },
      "execution_count": 63,
      "outputs": []
    },
    {
      "cell_type": "code",
      "source": [
        "def encode_qubits(bits, bases):\n",
        "    \"\"\"Encode bits into 'qubits' using given bases.\"\"\"\n",
        "    return [(bit, base) for bit, base in zip(bits, bases)]"
      ],
      "metadata": {
        "id": "U8WHHlEyHLX5"
      },
      "execution_count": 64,
      "outputs": []
    },
    {
      "cell_type": "code",
      "source": [
        "def measure_qubits(qubits, measurement_bases):\n",
        "    \"\"\"Measure qubits in Bob's randomly chosen bases.\"\"\"\n",
        "    measured_bits = []\n",
        "    for (bit, base), measure_base in zip(qubits, measurement_bases):\n",
        "        if base == measure_base:\n",
        "            measured_bits.append(bit)\n",
        "        else:\n",
        "            measured_bits.append(np.random.randint(2))\n",
        "    return measured_bits"
      ],
      "metadata": {
        "id": "bFxXJW09HLVC"
      },
      "execution_count": 65,
      "outputs": []
    },
    {
      "cell_type": "code",
      "source": [
        "def sift_key(alice_bases, bob_bases, alice_bits, bob_bits):\n",
        "    \"\"\"Sift key by keeping only bits where bases match.\"\"\"\n",
        "    key = [alice_bits[i] for i in range(len(alice_bits)) if alice_bases[i] == bob_bases[i]]\n",
        "    return key"
      ],
      "metadata": {
        "id": "z_Ux9_gVHLST"
      },
      "execution_count": 66,
      "outputs": []
    },
    {
      "cell_type": "markdown",
      "source": [
        "More about BB84 protocol:\n",
        "The BB84 protocol (proposed in 1984 by Bennett and Brassard) is the first quantum cryptography method. It allows two people (Alice & Bob) to create a secret key that no eavesdropper (Eve) can steal without being detected. <br>\n",
        "You can always read more about it here : https://eprint.iacr.org/2020/1074.pdf"
      ],
      "metadata": {
        "id": "f5kp_d1II6fq"
      }
    },
    {
      "cell_type": "code",
      "source": [
        "def bb84_protocol(n=50):\n",
        "    \"\"\"Run the full BB84 quantum key distribution simulation.\"\"\"\n",
        "    alice_bits = generate_random_bits(n)\n",
        "    alice_bases = generate_random_bases(n)\n",
        "\n",
        "    qubits = encode_qubits(alice_bits, alice_bases)\n",
        "\n",
        "    bob_bases = generate_random_bases(n)\n",
        "    bob_bits = measure_qubits(qubits, bob_bases)\n",
        "\n",
        "    shared_key = sift_key(alice_bases, bob_bases, alice_bits, bob_bits)\n",
        "\n",
        "    return shared_key"
      ],
      "metadata": {
        "id": "4oCtLxC0HSHr"
      },
      "execution_count": 67,
      "outputs": []
    },
    {
      "cell_type": "code",
      "execution_count": 68,
      "metadata": {
        "colab": {
          "base_uri": "https://localhost:8080/"
        },
        "id": "_WhDrJn0HHv9",
        "outputId": "50f3c169-46a3-4bc5-f8c0-19d0ec74f050"
      },
      "outputs": [
        {
          "output_type": "stream",
          "name": "stdout",
          "text": [
            "Shared Key: [1, 1, 1, 0]\n",
            "Key Length: 4\n"
          ]
        }
      ],
      "source": [
        "# In[Run the BB84 simulation]\n",
        "shared_key = bb84_protocol(10)\n",
        "print(\"Shared Key:\", shared_key)\n",
        "print(\"Key Length:\", len(shared_key))\n"
      ]
    }
  ]
}