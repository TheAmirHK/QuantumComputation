{
  "nbformat": 4,
  "nbformat_minor": 0,
  "metadata": {
    "colab": {
      "provenance": [],
      "authorship_tag": "ABX9TyMrwENF8fqb+UWtBDf7GH65",
      "include_colab_link": true
    },
    "kernelspec": {
      "name": "python3",
      "display_name": "Python 3"
    },
    "language_info": {
      "name": "python"
    }
  },
  "cells": [
    {
      "cell_type": "markdown",
      "metadata": {
        "id": "view-in-github",
        "colab_type": "text"
      },
      "source": [
        "<a href=\"https://colab.research.google.com/github/TheAmirHK/QuantumComputation/blob/main/QuantumCryptography/QuantumCryptoKey_withError.ipynb\" target=\"_parent\"><img src=\"https://colab.research.google.com/assets/colab-badge.svg\" alt=\"Open In Colab\"/></a>"
      ]
    },
    {
      "cell_type": "code",
      "source": [
        "import numpy as np"
      ],
      "metadata": {
        "id": "VE2RilNRHLg0"
      },
      "execution_count": 34,
      "outputs": []
    },
    {
      "cell_type": "code",
      "source": [
        "def generate_random_bits(n):\n",
        "    \"\"\"Generate n random bits.\"\"\"\n",
        "\n",
        "    return np.random.randint(2, size=n)"
      ],
      "metadata": {
        "id": "hmtGi2GRHLdZ"
      },
      "execution_count": 35,
      "outputs": []
    },
    {
      "cell_type": "code",
      "source": [
        "def generate_random_bases(n):\n",
        "    \"\"\"Generate n random bases (0 for standard, 1 for Hadamard).\"\"\"\n",
        "\n",
        "    return np.random.randint(2, size=n)"
      ],
      "metadata": {
        "id": "iAg4c8u2HLa0"
      },
      "execution_count": 36,
      "outputs": []
    },
    {
      "cell_type": "code",
      "source": [
        "def encode_qubits(bits, bases):\n",
        "    \"\"\"Encode bits into 'qubits' using given bases.\"\"\"\n",
        "\n",
        "    return [(bit, base) for bit, base in zip(bits, bases)]"
      ],
      "metadata": {
        "id": "U8WHHlEyHLX5"
      },
      "execution_count": 37,
      "outputs": []
    },
    {
      "cell_type": "code",
      "source": [
        "def measure_qubits(qubits, measurement_bases):\n",
        "    \"\"\"Measure qubits in Bob's randomly chosen bases.\"\"\"\n",
        "    measured_bits = []\n",
        "    for (bit, base), measure_base in zip(qubits, measurement_bases):\n",
        "        if base == measure_base:\n",
        "            measured_bits.append(bit)\n",
        "        else:\n",
        "            measured_bits.append(np.random.randint(2))\n",
        "    return measured_bits"
      ],
      "metadata": {
        "id": "bFxXJW09HLVC"
      },
      "execution_count": 38,
      "outputs": []
    },
    {
      "cell_type": "code",
      "source": [
        "def sift_key(alice_bases, bob_bases, alice_bits, bob_bits):\n",
        "    \"\"\"Sift key by keeping only bits where bases match.\"\"\"\n",
        "    key = [alice_bits[i] for i in range(len(alice_bits)) if alice_bases[i] == bob_bases[i]]\n",
        "    return key"
      ],
      "metadata": {
        "id": "z_Ux9_gVHLST"
      },
      "execution_count": 39,
      "outputs": []
    },
    {
      "cell_type": "code",
      "source": [
        "# here i introduce some arbitary error in the key\n",
        "\n",
        "def introduce_errors(bits, error_rate=0.1):\n",
        "    \"\"\"Simulate errors in transmission with a given probability.\"\"\"\n",
        "    noisy_bits = bits.copy()\n",
        "    for i in range(len(bits)):\n",
        "        if np.random.rand() < error_rate:\n",
        "            noisy_bits[i] = 1 - noisy_bits[i]\n",
        "    return noisy_bits"
      ],
      "metadata": {
        "id": "xo2OwoQdKJdQ"
      },
      "execution_count": 40,
      "outputs": []
    },
    {
      "cell_type": "code",
      "source": [
        "def error_detection(alice_bits, bob_bits):\n",
        "    \"\"\"Detect errors by checking random bits.\"\"\"\n",
        "\n",
        "    sample_size = min(len(alice_bits), 10)\n",
        "    indices = np.random.choice(len(alice_bits), sample_size, replace=False)\n",
        "\n",
        "    errors = sum(1 for i in indices if alice_bits[i] != bob_bits[i])\n",
        "    error_rate = errors / sample_size\n",
        "\n",
        "    print(f\"Error Check: {errors}/{sample_size} mismatched\")\n",
        "    if error_rate > 0.3:\n",
        "        print(\"Too many errors! Key is unsafe. Restart BB84.\")\n",
        "        return False\n",
        "    return True"
      ],
      "metadata": {
        "id": "-yFgQEKTKJaY"
      },
      "execution_count": 41,
      "outputs": []
    },
    {
      "cell_type": "code",
      "source": [
        "def correct_errors(alice_bits, bob_bits):\n",
        "    \"\"\"Fix mismatched bits using simple majority correction.\"\"\"\n",
        "    for i in range(len(alice_bits)):\n",
        "        if alice_bits[i] != bob_bits[i]:\n",
        "            bob_bits[i] = alice_bits[i]\n",
        "    return bob_bits"
      ],
      "metadata": {
        "id": "XOCWerX7KPiz"
      },
      "execution_count": 42,
      "outputs": []
    },
    {
      "cell_type": "code",
      "source": [
        "def bb84_protocol(n=50):\n",
        "    \"\"\"Run the full BB84 quantum key distribution simulation.\"\"\"\n",
        "    alice_bits = generate_random_bits(n)\n",
        "    alice_bases = generate_random_bases(n)\n",
        "\n",
        "    qubits = encode_qubits(alice_bits, alice_bases)\n",
        "\n",
        "    bob_bases = generate_random_bases(n)\n",
        "    bob_bits = measure_qubits(qubits, bob_bases)\n",
        "\n",
        "    shared_key = sift_key(alice_bases, bob_bases, alice_bits, bob_bits)\n",
        "\n",
        "    return shared_key"
      ],
      "metadata": {
        "id": "4oCtLxC0HSHr"
      },
      "execution_count": 43,
      "outputs": []
    },
    {
      "cell_type": "code",
      "source": [
        "# Generate BB84 key\n",
        "n = 10\n",
        "alice_bits = generate_random_bits(n)\n",
        "alice_bases = generate_random_bases(n)\n",
        "bob_bases = generate_random_bases(n)\n",
        "\n",
        "qubits = encode_qubits(alice_bits, alice_bases)\n",
        "bob_bits = measure_qubits(qubits, bob_bases)\n",
        "\n",
        "# Simulate errors\n",
        "bob_bits_noisy = introduce_errors(bob_bits, error_rate=0.1)\n",
        "\n",
        "# Error detection\n",
        "if error_detection(alice_bits, bob_bits_noisy):\n",
        "    print(\"Key is mostly correct. Applying error correction...\")\n",
        "    bob_bits_fixed = correct_errors(alice_bits, bob_bits_noisy)\n",
        "    print(\"Corrected Key:\", bob_bits_fixed)\n",
        "else:\n",
        "    print(\"Key was too corrupted! Restarting the protocol.\")\n"
      ],
      "metadata": {
        "colab": {
          "base_uri": "https://localhost:8080/"
        },
        "id": "R4HhWAaJKV8q",
        "outputId": "05b76908-b33f-4d07-9a96-9d051b6befcd"
      },
      "execution_count": 51,
      "outputs": [
        {
          "output_type": "stream",
          "name": "stdout",
          "text": [
            "Error Check: 1/10 mismatched\n",
            "Key is mostly correct. Applying error correction...\n",
            "Corrected Key: [1, 1, 0, 0, 0, 1, 0, 0, 1, 1]\n"
          ]
        }
      ]
    }
  ]
}